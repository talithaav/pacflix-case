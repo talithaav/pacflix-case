{
 "cells": [
  {
   "cell_type": "code",
   "execution_count": 2,
   "id": "60ebac89-e833-482b-9025-37ec35498ba4",
   "metadata": {
    "tags": []
   },
   "outputs": [],
   "source": [
    "# import library\n",
    "from tabulate import tabulate"
   ]
  },
  {
   "cell_type": "code",
   "execution_count": 6,
   "id": "46e08454-4845-48f2-9f3e-3f8540846840",
   "metadata": {
    "tags": []
   },
   "outputs": [],
   "source": [
    "#insert dummy data\n",
    "data = {\"Shandy\" : [\"Basic Plan\", 12, \"shandy-2134\"],\n",
    "       \"Cahya\" : [\"Standard Plan\", 24, \"cahya-abcd\"],\n",
    "       \"Ana\" : [\"Premium Plan\", 5, \"ana-2f9g\"],\n",
    "       \"Bagus\" : [\"Basic Plan\", 11, \"bagus-9f92\"]}"
   ]
  },
  {
   "cell_type": "code",
   "execution_count": 9,
   "id": "434abbd0-b4bb-495d-89c1-2d9249e57eb2",
   "metadata": {},
   "outputs": [],
   "source": [
    "class User:\n",
    "    def __init__(self, username, duration_plan, current_plan):\n",
    "        self.username = username\n",
    "        self.duration_plan = duration_plan\n",
    "        self.current_plan = current_plan\n",
    "        \n",
    "    def check_benefit(self):\n",
    "        \"\"\"\n",
    "        Function to show all Pacflix Subsription Benefit Table.\n",
    "        \"\"\"\n",
    "        headers = ['Basic Plan', 'Standard Plan', 'Premium Plan', 'Services']\n",
    "        \n",
    "        table = [[True, True, True, 'Bisa Stream'],\n",
    "               [True, True, True, 'Bisa Download'],\n",
    "               [True, True, True, 'Kualitas SD'],\n",
    "               [False, True, True, 'Kualitas HD'],\n",
    "               [False, False, True, 'Kualitas UHD'],\n",
    "               [1, 2, 4, 'Number of Devices'],\n",
    "               ['3rd party Movie only', 'Basic Plan Content + Sports', 'Basic Plan + Standard Plan + PacFlix Original Series', 'Content'],\n",
    "               [120_000, 160_000, 200_000, 'Price']]\n",
    "        \n",
    "        print(\"All PacFlix Subs List\\n\")\n",
    "        print(tabulate(table, headers=headers, tablefmt='fancy_grid'))\n",
    "        \n",
    "    #User Subscription check\n",
    "    def check_plan(self, username):\n",
    "        \"\"\"\n",
    "        Function to show user's current plan and duration plan along with the benefit.\n",
    "        \n",
    "        Parameters\n",
    "        ----------\n",
    "        username: string\n",
    "            input username\n",
    "        \"\"\"\n",
    "        for key, value in data.items():\n",
    "            if self.username == key:\n",
    "                print(f\"Username: {key}\")\n",
    "                print(f\"Plan: {value[0]}\")\n",
    "                print(f\"Duration Plan: {value[1]}\")\n",
    "                \n",
    "                try:\n",
    "                    if value[0] == 'Basic Plan':\n",
    "                        table = [[True, 'Bisa Stream'],\n",
    "                                [True, 'Bisa Download'],\n",
    "                                [True, 'Kualitas SD'],\n",
    "                                [False, 'Kualitas HD'],\n",
    "                                [False, 'Kualitas UHD'],\n",
    "                                [1, 'Number of Devices'],\n",
    "                                ['3rd party Movie only', 'Content'],\n",
    "                                [120_000, 'Price']]\n",
    "                        headers = ['Basic Plan', 'Services']\n",
    "                        print(f\"{value[0]} Subscription Benefits\\n\")\n",
    "                        print(tabulate(table, headers=headers, tablefmt='fancy_grid'))\n",
    "                    elif value[0] == 'Standard Plan':\n",
    "                        table = [[True, 'Bisa Stream'],\n",
    "                                [True, 'Bisa Download'],\n",
    "                                [True, 'Kualitas SD'],\n",
    "                                [True, 'Kualitas HD'],\n",
    "                                [False, 'Kualitas UHD'],\n",
    "                                [2, 'Number of Devices'],\n",
    "                                ['Basic Plan Content + Sports', 'Content'],\n",
    "                                [160_000, 'Price']]\n",
    "                        headers = ['Standard Plan', 'Services']\n",
    "                        print(f\"{value[0]} Subscription Benefits\\n\")\n",
    "                        print(tabulate(table, headers=headers, tablefmt='fancy_grid'))\n",
    "                    elif value[0] == 'Premium Plan':\n",
    "                        table = [[True, 'Bisa Stream'],\n",
    "                                [True, 'Bisa Download'],\n",
    "                                [True, 'Kualitas SD'],\n",
    "                                [True, 'Kualitas HD'],\n",
    "                                [True, 'Kualitas UHD'],\n",
    "                                [4, 'Number of Devices'],\n",
    "                                ['Basic Plan + Standard Plan + PacFlix Original Series', 'Content'],\n",
    "                                [200_000, 'Price']]\n",
    "                        headers = ['Premium Plan', 'Services']\n",
    "                        print(f\"{value[0]} Subscription Benefits\\n\")\n",
    "                        print(tabulate(table, headers=headers, tablefmt='fancy_grid'))\n",
    "                except:\n",
    "                    raise Exception(\"Subscription Plan does not exist\")\n",
    "    def upgrade_plan(self, username, current_plan, upgrade_plan):\n",
    "        \"\"\"\n",
    "        Function to calculate final price if the user upgrades plan. User who have subscribed for more than 12 months will be given a discount. \n",
    "            total price = normal price - (normal price*0.05)\n",
    "        \n",
    "        Parameters\n",
    "        ----------\n",
    "        username: string\n",
    "            input username\n",
    "        current_plan: string\n",
    "            Plan currently owned by existing user\n",
    "        upgrade plan: string\n",
    "            New plan selected by existing user\n",
    "        \"\"\"\n",
    "        #Current Plan tier list\n",
    "        if current_plan == 'Basic Plan':\n",
    "            current_plan = 1\n",
    "        elif current_plan == 'Standard Plan':\n",
    "            current_plan = 2\n",
    "        elif current_plan == 'Premium Plan':\n",
    "            current_plan = 3\n",
    "        \n",
    "        #Upgraded Plan tier list + Price\n",
    "        if upgrade_plan == 'Basic Plan':\n",
    "            upgrade_plan = 1\n",
    "            price = 120_000\n",
    "        elif upgrade_plan == 'Standard Plan':\n",
    "            upgrade_plan = 2 \n",
    "            price = 160_000\n",
    "        elif upgrade_plan == 'Premium Plan':\n",
    "            upgrade_plan = 3\n",
    "            price = 200_000\n",
    "        \n",
    "        try:\n",
    "            if current_plan < upgrade_plan:\n",
    "                \n",
    "                if self.duration_plan > 12:\n",
    "                    total = price - (price * 0.05)\n",
    "                    print(f\"Username: {self.username}\")\n",
    "                    print(f\"Total Price: Rp {total}\")\n",
    "                else:\n",
    "                    print(f\"Username: {self.username}\")\n",
    "                    print(\"Duration Plan is less than 12 months\")\n",
    "                    print(f\"Total Price: Rp {price}\")\n",
    "            elif current_plan == upgrade_plan:\n",
    "                raise Exception(\"Upgrade Plan failed\")\n",
    "            else:\n",
    "                raise Exception(\"Upgrade Plan failed. Unable to downgrade Plan\")\n",
    "        except:\n",
    "            raise Exception(\"Error: Plan is not available.\")\n",
    "            \n",
    "class NewUser:\n",
    "    existing_referral_code = []\n",
    "    def __init__(self, username):\n",
    "        self.username = username\n",
    "        \n",
    "    def get_referral_code(self, data):\n",
    "        \"\"\"\n",
    "        Function to get referral code from existing user.\n",
    "        \n",
    "        Parameters\n",
    "        ----------\n",
    "        data: dictionary\n",
    "            existing PacFlix database\n",
    "        \n",
    "        Returns\n",
    "        -------\n",
    "        existing_referral_code: list\n",
    "            List of referral code from database\n",
    "        \"\"\"\n",
    "        for value in data.values():\n",
    "            ref_code = value[2]\n",
    "            self.existing_referral_code.append(ref_code)\n",
    "        return self.existing_referral_code\n",
    "    \n",
    "    def pick_plan(self, new_plan, referral_code):\n",
    "        \"\"\"\n",
    "        Function to calculate final discounted price for new user if the referral code is valid.\n",
    "            total price = normal price - (normal price*0.04)\n",
    "            \n",
    "        Parameters\n",
    "        ----------\n",
    "        new_plan: String\n",
    "            Plan chosen by new user\n",
    "        referral_code: String\n",
    "            Referral code entered by new user\n",
    "            \n",
    "        Returns\n",
    "        -------\n",
    "        total: Float\n",
    "            Final price to be paid by new user\n",
    "        \"\"\"\n",
    "        DISCOUNT = 0.04\n",
    "        if referral_code in self.existing_referral_code:\n",
    "            if new_plan == 'Basic Plan':\n",
    "                total = 120_000 - (120_000*DISCOUNT)\n",
    "                return total\n",
    "            elif new_plan == 'Standard Plan':\n",
    "                total = 160_000 - (160_000*DISCOUNT)\n",
    "                return total\n",
    "            elif new_plan == 'Premium Plan':\n",
    "                total = 200_000 - (200_000*DISCOUNT)\n",
    "                return total\n",
    "            else:\n",
    "                raise Exception(\"Plan is unavailable.\")\n",
    "        else:\n",
    "            raise Exception(\"Referral Code invalid.\")"
   ]
  },
  {
   "cell_type": "code",
   "execution_count": 10,
   "id": "9d1cfb69-8761-4d3d-b527-817e17005fcf",
   "metadata": {
    "tags": []
   },
   "outputs": [
    {
     "name": "stdout",
     "output_type": "stream",
     "text": [
      "Username: Shandy\n",
      "Total Price: Rp 152000.0\n"
     ]
    }
   ],
   "source": [
    "user_1 = User(\"Shandy\", 14, \"Basic Plan\")\n",
    "user_1.upgrade_plan(user_1.username, user_1.current_plan, upgrade_plan = 'Standard Plan')"
   ]
  },
  {
   "cell_type": "code",
   "execution_count": 11,
   "id": "86fc0d80-71b0-4060-8e76-363b270e7aff",
   "metadata": {
    "tags": []
   },
   "outputs": [
    {
     "name": "stdout",
     "output_type": "stream",
     "text": [
      "Username: Cahya\n",
      "Total Price: Rp 190000.0\n"
     ]
    }
   ],
   "source": [
    "user_2 = User(\"Cahya\", 24, \"Standard Plan\")\n",
    "user_2.upgrade_plan(user_2.username, user_2.current_plan, \"Premium Plan\")"
   ]
  },
  {
   "cell_type": "code",
   "execution_count": 12,
   "id": "a45924d3-a5dd-4132-80ab-f9312cec4a39",
   "metadata": {
    "tags": []
   },
   "outputs": [
    {
     "data": {
      "text/plain": [
       "['shandy-2134', 'cahya-abcd', 'ana-2f9g', 'bagus-9f92']"
      ]
     },
     "execution_count": 12,
     "metadata": {},
     "output_type": "execute_result"
    }
   ],
   "source": [
    "user_3 = NewUser(\"Amanda\")\n",
    "user_3.get_referral_code(data)"
   ]
  },
  {
   "cell_type": "code",
   "execution_count": 13,
   "id": "2b5e714a-9026-4b01-935f-80e53f67e20b",
   "metadata": {
    "tags": []
   },
   "outputs": [
    {
     "data": {
      "text/plain": [
       "192000.0"
      ]
     },
     "execution_count": 13,
     "metadata": {},
     "output_type": "execute_result"
    }
   ],
   "source": [
    "user_3.pick_plan(\"Premium Plan\", \"shandy-2134\")"
   ]
  }
 ],
 "metadata": {
  "kernelspec": {
   "display_name": "Python 3 (ipykernel)",
   "language": "python",
   "name": "python3"
  },
  "language_info": {
   "codemirror_mode": {
    "name": "ipython",
    "version": 3
   },
   "file_extension": ".py",
   "mimetype": "text/x-python",
   "name": "python",
   "nbconvert_exporter": "python",
   "pygments_lexer": "ipython3",
   "version": "3.11.5"
  }
 },
 "nbformat": 4,
 "nbformat_minor": 5
}
